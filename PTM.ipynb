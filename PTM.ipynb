{
 "cells": [
  {
   "cell_type": "code",
   "execution_count": 2,
   "metadata": {},
   "outputs": [],
   "source": [
    "from qutip import *\n",
    "import numpy as np\n",
    "from itertools import product\n",
    "import random\n",
    "import matplotlib.pyplot as plt"
   ]
  },
  {
   "cell_type": "code",
   "execution_count": 102,
   "metadata": {},
   "outputs": [],
   "source": [
    "class pauli_transfer_matrix():\n",
    "    def __init__(self, ntls):\n",
    "        self.ntls = ntls\n",
    "        self.pauli_index = [0,1,2,3]\n",
    "        self.pauli_index_ls = [self.pauli_index] * self.ntls\n",
    "        self.u_perm = list(product(*self.pauli_index_ls))\n",
    "        self.pauli_ls = [qeye(2), sigmax(), sigmay(), sigmaz()]\n",
    "    \n",
    "    def perm_vec(self):\n",
    "        return list(product(*self.pauli_index_ls))\n",
    "    \n",
    "    def pauli_gen(self, index):\n",
    "        return tensor([self.pauli_ls[index[i]] for i in range(len(index))])\n",
    "    \n",
    "    def pauli_qutip_ops(self):\n",
    "        return {index: self.pauli_gen(index) for index in self.u_perm}\n",
    "    \n",
    "    # Pauli product based on indexes\n",
    "    def pauli_commute(self, u, w):\n",
    "        # u, w: tuples, e.g. (0,1,2,2,3) for n=5\n",
    "        # Determine 0 or 2\n",
    "        sgn = 1\n",
    "        for i in range(len(u)):\n",
    "            sgn *= (-1) ** self.delta(u[i], w[i])\n",
    "        if sgn == (-1) ** self.ntls:\n",
    "            return (0, 0)\n",
    "        else:\n",
    "            (fact, op) = self.pauli_prod(u, w)\n",
    "            return (2 * fact, op)\n",
    "    \n",
    "    @staticmethod\n",
    "    def delta(a, b):\n",
    "        if a == b or a == 0 or b == 0:\n",
    "            return 1\n",
    "        else:\n",
    "            return 0\n",
    "\n",
    "    @staticmethod\n",
    "    def pauli_prod_single(p1, p2):\n",
    "        results = {\n",
    "            (1,2): (1j, 3),\n",
    "            (1,3): (-1j, 2),\n",
    "            (2,1): (-1j, 3),\n",
    "            (2,3): (1j, 1),\n",
    "            (3,1): (1j, 2),\n",
    "            (3,2): (-1j, 1)\n",
    "        }\n",
    "        if p1 == p2:\n",
    "            return (1, 0)\n",
    "        elif p1 == 0:\n",
    "            return (1, p2)\n",
    "        elif p2 == 0:\n",
    "            return (1, p1)\n",
    "        \n",
    "        else:\n",
    "            return results[(p1,p2)]\n",
    "\n",
    "    def pauli_prod(self, u, w):\n",
    "        new = np.zeros(len(u))\n",
    "        fact_new = 1\n",
    "        for i in range(len(u)):\n",
    "            (fact, res) = self.pauli_prod_single(u[i], w[i])\n",
    "            fact_new *= fact\n",
    "            new[i] = res\n",
    "        return (fact_new, tuple(new.astype(int)))\n",
    "    \n",
    "    def gamma_u_w(self, u, D, w):\n",
    "        # D = [(df, d)], df constant factor, d pauli vector (tuple)\n",
    "        # [u,d]=v return 0/2 if w=v, else 0\n",
    "        # d be an index for a Pauli matrix in diagonal D\n",
    "        for D_loc in D:\n",
    "            (df, d) = D_loc\n",
    "            (fact, v) = self.pauli_commute(u,d)\n",
    "            if v != w:\n",
    "                continue\n",
    "            else:\n",
    "                return df * fact\n",
    "        return 0\n",
    "    \n",
    "    def gamma_distibution(self, D):\n",
    "        pair_index_ls = [self.u_perm] * 2\n",
    "        # For ntls = 2, len(pair_perm)=16^ntls=256\n",
    "        perm_pair_uw = list(product(*pair_index_ls))\n",
    "        gamma = [np.abs(self.gamma_u_w(pair_uw[0], D, pair_uw[1])) for pair_uw in perm_pair_uw]\n",
    "        gamma = gamma/np.sum(gamma)\n",
    "        return perm_pair_uw, gamma\n",
    "\n",
    "    def sample_uw(self, D, show=False):\n",
    "        (perm_pair_uw, gamma_ls) = self.gamma_distibution(D)\n",
    "        if show:\n",
    "            samples = np.random.choice(len(perm_pair_uw),500000, p=gamma_ls)\n",
    "            sample_stat = np.unique(samples, return_counts=True)\n",
    "            unique_ind = list(sample_stat[0].astype(int))\n",
    "            ind_occur = sample_stat[1]\n",
    "            plt.bar(unique_ind, ind_occur)\n",
    "            plt.show()\n",
    "            all_possible_uw = [(perm_pair_uw[i], gamma_ls[i]) for i in unique_ind]\n",
    "            return all_possible_uw\n",
    "        else:\n",
    "            sample = np.random.choice(len(perm_pair_uw), p=gamma_ls)\n",
    "            return (perm_pair_uw[sample], gamma_ls[sample])\n",
    "\n",
    "    def sample_vv(self):\n",
    "        (v, vp) = (self.u_perm[random.randint(0,len(self.u_perm)-1)], \n",
    "           self.u_perm[random.randint(0,len(self.u_perm)-1)])\n",
    "        return (v, vp)\n",
    "    \n"
   ]
  },
  {
   "cell_type": "code",
   "execution_count": 103,
   "metadata": {},
   "outputs": [
    {
     "name": "stdout",
     "output_type": "stream",
     "text": [
      "Qutip results: Quantum object: dims = [[2, 2], [2, 2]], shape = (4, 4), type = oper, isherm = False\n",
      "Qobj data =\n",
      "[[ 0.  0.  0. -2.]\n",
      " [ 0.  0. -2.  0.]\n",
      " [ 0.  2.  0.  0.]\n",
      " [ 2.  0.  0.  0.]]\n",
      "Pauli_commute: (-2j, (2, 1))\n"
     ]
    }
   ],
   "source": [
    "# Test 1 Pauli commutators\n",
    "\n",
    "# Initialize class\n",
    "sys = pauli_transfer_matrix(2)\n",
    "# [X1X2, Z1] = -2iY1X2\n",
    "qutip_ops = sys.pauli_qutip_ops()\n",
    "comm_qutip = commutator(qutip_ops[(1,1)], qutip_ops[(3,0)])\n",
    "print('Qutip results:', comm_qutip)\n",
    "print('Pauli_commute:', sys.pauli_commute((1,1),(3,0)))"
   ]
  },
  {
   "cell_type": "code",
   "execution_count": 104,
   "metadata": {},
   "outputs": [
    {
     "data": {
      "image/png": "[encoded data removed]",
      "text/plain": [
       "<Figure size 640x480 with 1 Axes>"
      ]
     },
     "metadata": {},
     "output_type": "display_data"
    },
    {
     "name": "stdout",
     "output_type": "stream",
     "text": [
      "[(((0, 1), (0, 2)), 0.08333333333333333), (((0, 2), (0, 1)), 0.08333333333333333), (((1, 0), (2, 0)), 0.041666666666666664), (((1, 1), (1, 2)), 0.08333333333333333), (((1, 1), (2, 1)), 0.041666666666666664), (((1, 2), (1, 1)), 0.08333333333333333), (((1, 2), (2, 2)), 0.041666666666666664), (((1, 3), (2, 3)), 0.041666666666666664), (((2, 0), (1, 0)), 0.041666666666666664), (((2, 1), (1, 1)), 0.041666666666666664), (((2, 1), (2, 2)), 0.08333333333333333), (((2, 2), (1, 2)), 0.041666666666666664), (((2, 2), (2, 1)), 0.08333333333333333), (((2, 3), (1, 3)), 0.041666666666666664), (((3, 1), (3, 2)), 0.08333333333333333), (((3, 2), (3, 1)), 0.08333333333333333)]\n",
      "((3, 1), (0, 3))\n"
     ]
    }
   ],
   "source": [
    "# Test 2 Sampling u,w\n",
    "D = [(1,(3,0)),(2,(0,3))]\n",
    "print(sys.sample_uw(D, show=True))\n",
    "print(sys.sample_vv())"
   ]
  },
  {
   "cell_type": "code",
   "execution_count": null,
   "metadata": {},
   "outputs": [],
   "source": []
  }
 ],
 "metadata": {
  "kernelspec": {
   "display_name": "qutip-env",
   "language": "python",
   "name": "python3"
  },
  "language_info": {
   "codemirror_mode": {
    "name": "ipython",
    "version": 3
   },
   "file_extension": ".py",
   "mimetype": "text/x-python",
   "name": "python",
   "nbconvert_exporter": "python",
   "pygments_lexer": "ipython3",
   "version": "3.10.9"
  },
  "orig_nbformat": 4
 },
 "nbformat": 4,
 "nbformat_minor": 2
}
