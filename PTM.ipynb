{
 "cells": [
  {
   "cell_type": "code",
   "execution_count": 1,
   "metadata": {},
   "outputs": [],
   "source": [
    "from qutip import *\n",
    "import numpy as np\n",
    "from itertools import product\n",
    "import random\n",
    "import matplotlib.pyplot as plt\n",
    "import simple_exact_diagonalization_routines as spd\n",
    "from class_PTM import *"
   ]
  },
  {
   "cell_type": "markdown",
   "metadata": {},
   "source": [
    "# Functionality tests\n",
    "Explains the basic functions of the class and verify the correctness"
   ]
  },
  {
   "cell_type": "markdown",
   "metadata": {},
   "source": [
    "## Test 1: Pauli commutors\n",
    "1. Demonstrate the formalism of inputs\n",
    "2. Show that the pauli operations in class_PTM work as intended (compare with QuTiP)"
   ]
  },
  {
   "cell_type": "code",
   "execution_count": 2,
   "metadata": {},
   "outputs": [
    {
     "name": "stdout",
     "output_type": "stream",
     "text": [
      "Commute by index (-2j, (0, 3, 3))\n",
      "QuTip produces the same result:  True\n"
     ]
    }
   ],
   "source": [
    "# Initialize class\n",
    "ntls = 3\n",
    "sys = pauli_transfer_matrix(ntls)\n",
    "\n",
    "# Note that the pauli operators are given as tuple\n",
    "# (0,1,2,3) correspond to id, X, Y, Z\n",
    "# number of elements must match ntls\n",
    "\n",
    "op1 = (1,3,2)\n",
    "op2 = (1,0,1)\n",
    "ind_com = sys.pauli_commute(op1,op2)\n",
    "print('Commute by index', ind_com)\n",
    "\n",
    "qutip_ops = sys.pauli_qutip_ops()\n",
    "comm_qutip = commutator(qutip_ops[op1], qutip_ops[op2])\n",
    "print('QuTip produces the same result: ', comm_qutip == -2j*qutip_ops[ind_com[1]])"
   ]
  },
  {
   "cell_type": "markdown",
   "metadata": {},
   "source": [
    "## Test 2: Pauli transfer matrix equivalence to function\n",
    "\n",
    "Suppose function f(H) = [D,H], where D is diagonal"
   ]
  },
  {
   "cell_type": "code",
   "execution_count": 3,
   "metadata": {},
   "outputs": [
    {
     "data": {
      "text/html": [
       "<div>\n",
       "<style scoped>\n",
       "    .dataframe tbody tr th:only-of-type {\n",
       "        vertical-align: middle;\n",
       "    }\n",
       "\n",
       "    .dataframe tbody tr th {\n",
       "        vertical-align: top;\n",
       "    }\n",
       "\n",
       "    .dataframe thead th {\n",
       "        text-align: right;\n",
       "    }\n",
       "</style>\n",
       "<table border=\"1\" class=\"dataframe\">\n",
       "  <thead>\n",
       "    <tr style=\"text-align: right;\">\n",
       "      <th></th>\n",
       "      <th>Index</th>\n",
       "      <th>Gamma</th>\n",
       "    </tr>\n",
       "  </thead>\n",
       "  <tbody>\n",
       "    <tr>\n",
       "      <th>264</th>\n",
       "      <td>((0, 1, 0), (0, 2, 0))</td>\n",
       "      <td>0.000000-0.010417j</td>\n",
       "    </tr>\n",
       "    <tr>\n",
       "      <th>3514</th>\n",
       "      <td>((3, 1, 2), (3, 2, 2))</td>\n",
       "      <td>0.000000-0.010417j</td>\n",
       "    </tr>\n",
       "    <tr>\n",
       "      <th>1304</th>\n",
       "      <td>((1, 1, 0), (1, 2, 0))</td>\n",
       "      <td>0.000000-0.010417j</td>\n",
       "    </tr>\n",
       "    <tr>\n",
       "      <th>2539</th>\n",
       "      <td>((2, 1, 3), (2, 2, 3))</td>\n",
       "      <td>0.000000-0.010417j</td>\n",
       "    </tr>\n",
       "    <tr>\n",
       "      <th>1499</th>\n",
       "      <td>((1, 1, 3), (1, 2, 3))</td>\n",
       "      <td>0.000000-0.010417j</td>\n",
       "    </tr>\n",
       "    <tr>\n",
       "      <th>...</th>\n",
       "      <td>...</td>\n",
       "      <td>...</td>\n",
       "    </tr>\n",
       "    <tr>\n",
       "      <th>711</th>\n",
       "      <td>((0, 2, 3), (0, 1, 3))</td>\n",
       "      <td>0.000000+0.010417j</td>\n",
       "    </tr>\n",
       "    <tr>\n",
       "      <th>1751</th>\n",
       "      <td>((1, 2, 3), (1, 1, 3))</td>\n",
       "      <td>0.000000+0.010417j</td>\n",
       "    </tr>\n",
       "    <tr>\n",
       "      <th>2791</th>\n",
       "      <td>((2, 2, 3), (2, 1, 3))</td>\n",
       "      <td>0.000000+0.010417j</td>\n",
       "    </tr>\n",
       "    <tr>\n",
       "      <th>1556</th>\n",
       "      <td>((1, 2, 0), (1, 1, 0))</td>\n",
       "      <td>0.000000+0.010417j</td>\n",
       "    </tr>\n",
       "    <tr>\n",
       "      <th>3701</th>\n",
       "      <td>((3, 2, 1), (3, 1, 1))</td>\n",
       "      <td>0.000000+0.010417j</td>\n",
       "    </tr>\n",
       "  </tbody>\n",
       "</table>\n",
       "<p>64 rows × 2 columns</p>\n",
       "</div>"
      ],
      "text/plain": [
       "                       Index               Gamma\n",
       "264   ((0, 1, 0), (0, 2, 0))  0.000000-0.010417j\n",
       "3514  ((3, 1, 2), (3, 2, 2))  0.000000-0.010417j\n",
       "1304  ((1, 1, 0), (1, 2, 0))  0.000000-0.010417j\n",
       "2539  ((2, 1, 3), (2, 2, 3))  0.000000-0.010417j\n",
       "1499  ((1, 1, 3), (1, 2, 3))  0.000000-0.010417j\n",
       "...                      ...                 ...\n",
       "711   ((0, 2, 3), (0, 1, 3))  0.000000+0.010417j\n",
       "1751  ((1, 2, 3), (1, 1, 3))  0.000000+0.010417j\n",
       "2791  ((2, 2, 3), (2, 1, 3))  0.000000+0.010417j\n",
       "1556  ((1, 2, 0), (1, 1, 0))  0.000000+0.010417j\n",
       "3701  ((3, 2, 1), (3, 1, 1))  0.000000+0.010417j\n",
       "\n",
       "[64 rows x 2 columns]"
      ]
     },
     "metadata": {},
     "output_type": "display_data"
    }
   ],
   "source": [
    "import pandas as pd\n",
    "D = [(1,(3,0,0)), (2,(0,3,0))]\n",
    "(uw, gamma_uw) = sys.gamma_distibution(D)\n",
    "\n",
    "sys.show_gamma_distribution(gamma_uw)"
   ]
  },
  {
   "cell_type": "code",
   "execution_count": 5,
   "metadata": {},
   "outputs": [
    {
     "name": "stdout",
     "output_type": "stream",
     "text": [
      "f(pauli_test): [(-2j, (2, 2, 3)), (4j, (1, 1, 3))]\n",
      "PTM: [(4j, (1, 1, 3)), (-2j, (2, 2, 3))]\n"
     ]
    }
   ],
   "source": [
    "pauli_test = (1,2,3)\n",
    "# Commutator with D\n",
    "print('f(pauli_test):',sys.f(pauli_test, D))\n",
    "# Input to gamma\n",
    "f_ls = []\n",
    "for (u,w) in uw:\n",
    "    if u == pauli_test and gamma_uw[(u,w)]!=0:\n",
    "        f_ls.append((gamma_uw[(u,w)]*sys.beta, w))\n",
    "print('PTM:', f_ls)"
   ]
  },
  {
   "cell_type": "markdown",
   "metadata": {},
   "source": [
    "## Test 3: Sampling routine"
   ]
  },
  {
   "cell_type": "code",
   "execution_count": 4,
   "metadata": {},
   "outputs": [
    {
     "ename": "NameError",
     "evalue": "name 'u' is not defined",
     "output_type": "error",
     "traceback": [
      "\u001b[0;31m---------------------------------------------------------------------------\u001b[0m",
      "\u001b[0;31mNameError\u001b[0m                                 Traceback (most recent call last)",
      "\u001b[1;32m/Users/pethidine/DBF/Pauli_transfer_matrix_and_sampling/PTM.ipynb Cell 4\u001b[0m line \u001b[0;36m6\n\u001b[1;32m      <a href='vscode-notebook-cell:/Users/pethidine/DBF/Pauli_transfer_matrix_and_sampling/PTM.ipynb#W3sZmlsZQ%3D%3D?line=3'>4</a>\u001b[0m (v,vp) \u001b[39m=\u001b[39m sys\u001b[39m.\u001b[39msample_vv()\n\u001b[1;32m      <a href='vscode-notebook-cell:/Users/pethidine/DBF/Pauli_transfer_matrix_and_sampling/PTM.ipynb#W3sZmlsZQ%3D%3D?line=4'>5</a>\u001b[0m \u001b[39m# sys.sample_uw(D,multi_sample=True)\u001b[39;00m\n\u001b[0;32m----> <a href='vscode-notebook-cell:/Users/pethidine/DBF/Pauli_transfer_matrix_and_sampling/PTM.ipynb#W3sZmlsZQ%3D%3D?line=5'>6</a>\u001b[0m \u001b[39mprint\u001b[39m(v, vp, u, w, puw)\n\u001b[1;32m      <a href='vscode-notebook-cell:/Users/pethidine/DBF/Pauli_transfer_matrix_and_sampling/PTM.ipynb#W3sZmlsZQ%3D%3D?line=6'>7</a>\u001b[0m \u001b[39mprint\u001b[39m(sys\u001b[39m.\u001b[39mV_fj(v, vp, u, w, puw))\n",
      "\u001b[0;31mNameError\u001b[0m: name 'u' is not defined"
     ]
    }
   ],
   "source": [
    "# Test 2 Sampling u,w\n",
    "# Z1I2 + 2 I1Z2\n",
    "D = [(1,(3,0)),(5,(0,3))]\n",
    "(v,vp) = sys.sample_vv()\n",
    "# sys.sample_uw(D,multi_sample=True)\n",
    "print(v, vp, u, w, puw)\n",
    "print(sys.V_fj(v, vp, u, w, puw))"
   ]
  },
  {
   "cell_type": "code",
   "execution_count": null,
   "metadata": {},
   "outputs": [],
   "source": []
  },
  {
   "cell_type": "code",
   "execution_count": null,
   "metadata": {},
   "outputs": [],
   "source": []
  }
 ],
 "metadata": {
  "kernelspec": {
   "display_name": "qutip-env",
   "language": "python",
   "name": "python3"
  },
  "language_info": {
   "codemirror_mode": {
    "name": "ipython",
    "version": 3
   },
   "file_extension": ".py",
   "mimetype": "text/x-python",
   "name": "python",
   "nbconvert_exporter": "python",
   "pygments_lexer": "ipython3",
   "version": "3.11.5"
  },
  "orig_nbformat": 4
 },
 "nbformat": 4,
 "nbformat_minor": 2
}
