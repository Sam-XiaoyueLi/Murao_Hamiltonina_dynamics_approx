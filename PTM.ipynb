{
 "cells": [
  {
   "cell_type": "code",
   "execution_count": 124,
   "metadata": {},
   "outputs": [],
   "source": [
    "from qutip import *\n",
    "import numpy as np\n",
    "from itertools import product\n",
    "import random\n",
    "import matplotlib.pyplot as plt"
   ]
  },
  {
   "cell_type": "code",
   "execution_count": 9,
   "metadata": {},
   "outputs": [
    {
     "name": "stdout",
     "output_type": "stream",
     "text": [
      "Number of u vectors  16\n"
     ]
    }
   ],
   "source": [
    "# Generate all possible vectors (permutations of Pauli)\n",
    "ntls = 2\n",
    "pauli_index = [0,1,2,3]\n",
    "pauli_index_ls = [pauli_index] * ntls\n",
    "# Possible ntls-dimensional vectors u\n",
    "u_perm = list(product(*pauli_index_ls))\n",
    "\n",
    "# Generate necessary Pauli ops (for testing)\n",
    "pauli_ls = [qeye(2), sigmax(), sigmay(), sigmaz()]\n",
    "# op[(0,1)] = tensor(qeye(2), sigmax())\n",
    "#           = tensor(pauli_dic[0], pauli_ls[1])\n",
    "def pauli_gen(index):\n",
    "    return tensor([pauli_ls[index[i]] for i in range(len(index))])\n",
    "\n",
    "# All possible operators with key in u_perm \n",
    "# E.g. (0,2,1) for I1Y2X3\n",
    "ops = {index: pauli_gen(index) for index in u_perm}\n",
    "\n",
    "# Possible u: 4^n\n",
    "print('Number of u vectors ', len(u_perm))"
   ]
  },
  {
   "cell_type": "code",
   "execution_count": 32,
   "metadata": {},
   "outputs": [
    {
     "data": {
      "text/latex": [
       "Quantum object: dims = [[2, 2], [2, 2]], shape = (4, 4), type = oper, isherm = False $ \\\\ \\left(\\begin{matrix}0.0 & 0.0 & 0.0 & 2.0\\\\0.0 & 0.0 & 2.0 & 0.0\\\\0.0 & -2.0 & 0.0 & 0.0\\\\-2.0 & 0.0 & 0.0 & 0.0\\\\\\end{matrix}\\right)$"
      ],
      "text/plain": [
       "Quantum object: dims = [[2, 2], [2, 2]], shape = (4, 4), type = oper, isherm = False\n",
       "Qobj data =\n",
       "[[ 0.  0.  0.  2.]\n",
       " [ 0.  0.  2.  0.]\n",
       " [ 0. -2.  0.  0.]\n",
       " [-2.  0.  0.  0.]]"
      ]
     },
     "execution_count": 32,
     "metadata": {},
     "output_type": "execute_result"
    }
   ],
   "source": [
    "commutator(ops[(3,0)], ops[(1,1)])"
   ]
  },
  {
   "cell_type": "code",
   "execution_count": 35,
   "metadata": {},
   "outputs": [
    {
     "data": {
      "text/plain": [
       "True"
      ]
     },
     "execution_count": 35,
     "metadata": {},
     "output_type": "execute_result"
    }
   ],
   "source": [
    "H = ops[(1,1)] + ops[(0,3)] + ops[(3,0)]\n",
    "D = ops[(0,3)] + ops[(3,0)]\n",
    "f = commutator(H,D)\n",
    "# [H,D] = -2jY1X2 -2jX1Y2\n",
    "f == -2j * ops[(2,1)] - 2j * ops[(1,2)]"
   ]
  },
  {
   "cell_type": "code",
   "execution_count": 91,
   "metadata": {},
   "outputs": [],
   "source": [
    "# Pauli product based on indexes\n",
    "def pauli_commute(u, w):\n",
    "    # u, w: tuples, e.g. (0,1,2,2,3) for n=5\n",
    "    # Determine 0 or 2\n",
    "    sgn = 1\n",
    "    for i in range(len(u)):\n",
    "        sgn *= (-1) ** delta(u[i], w[i])\n",
    "    if sgn == (-1) ** ntls:\n",
    "        return (0, 0)\n",
    "    else:\n",
    "        (fact, op) = pauli_prod(u, w)\n",
    "        return (2 * fact, op)\n",
    "    \n",
    "def delta(a, b):\n",
    "    if a == b or a == 0 or b == 0:\n",
    "        return 1\n",
    "    else:\n",
    "        return 0\n",
    "\n",
    "def pauli_prod_single(p1, p2):\n",
    "    results = {\n",
    "        (1,2): (1j, 3),\n",
    "        (1,3): (-1j, 2),\n",
    "        (2,1): (-1j, 3),\n",
    "        (2,3): (1j, 1),\n",
    "        (3,1): (1j, 2),\n",
    "        (3,2): (-1j, 1)\n",
    "    }\n",
    "    if p1 == p2:\n",
    "        return (1, 0)\n",
    "    elif p1 == 0:\n",
    "        return (1, p2)\n",
    "    elif p2 == 0:\n",
    "        return (1, p1)\n",
    "    \n",
    "    else:\n",
    "        return results[(p1,p2)]\n",
    "\n",
    "def pauli_prod(u, w):\n",
    "    new = np.zeros(len(u))\n",
    "    fact_new = 1\n",
    "    for i in range(len(u)):\n",
    "        (fact, res) = pauli_prod_single(u[i], w[i])\n",
    "        fact_new *= fact\n",
    "        new[i] = res\n",
    "    return (fact_new, tuple(new.astype(int)))"
   ]
  },
  {
   "cell_type": "code",
   "execution_count": 92,
   "metadata": {},
   "outputs": [
    {
     "data": {
      "text/plain": [
       "(0, 0)"
      ]
     },
     "execution_count": 92,
     "metadata": {},
     "output_type": "execute_result"
    }
   ],
   "source": [
    "pauli_commute((3,1),(3,0))"
   ]
  },
  {
   "cell_type": "code",
   "execution_count": 96,
   "metadata": {},
   "outputs": [],
   "source": [
    "# Gamma_u: dictionary with w as keys\n",
    "# Input sigma_u, find coefficients of sigma_w\n",
    "# Initialize gamma\n",
    "def gamma_u_w(u, D, w):\n",
    "    # D = (df, f), df constant factor, d pauli vector\n",
    "    (df, d) = D\n",
    "    # [u,d]=v return 0/2 if w=v, else 0\n",
    "    # d be an index for a Pauli matrix in diagonal D\n",
    "    (fact, v) = pauli_commute(u,d)\n",
    "    if v != w:\n",
    "        return 0\n",
    "    else:\n",
    "        return df * fact"
   ]
  },
  {
   "cell_type": "code",
   "execution_count": 76,
   "metadata": {},
   "outputs": [],
   "source": [
    "# Example\n",
    "ntls = 2\n",
    "# Suppose D = Z1\n",
    "D = [(1,(3,0))]\n",
    "# Function f(H) = [H,D]"
   ]
  },
  {
   "cell_type": "code",
   "execution_count": 101,
   "metadata": {},
   "outputs": [
    {
     "name": "stdout",
     "output_type": "stream",
     "text": [
      "Quantum object: dims = [[2, 2], [2, 2]], shape = (4, 4), type = oper, isherm = False\n",
      "Qobj data =\n",
      "[[0.+0.j 0.+0.j 0.+0.j 0.+2.j]\n",
      " [0.+0.j 0.+0.j 0.+2.j 0.+0.j]\n",
      " [0.+0.j 0.+2.j 0.+0.j 0.+0.j]\n",
      " [0.+2.j 0.+0.j 0.+0.j 0.+0.j]]\n",
      "Quantum object: dims = [[2, 2], [2, 2]], shape = (4, 4), type = oper, isherm = False\n",
      "Qobj data =\n",
      "[[0.+0.j 0.+0.j 0.+0.j 0.+2.j]\n",
      " [0.+0.j 0.+0.j 0.+2.j 0.+0.j]\n",
      " [0.+0.j 0.+2.j 0.+0.j 0.+0.j]\n",
      " [0.+2.j 0.+0.j 0.+0.j 0.+0.j]]\n"
     ]
    }
   ],
   "source": [
    "# Test case\n",
    "\n",
    "pauli_index = [0,1,2,3]\n",
    "pauli_index_ls = [pauli_index] * ntls\n",
    "# Possible ntls-dimensional vectors u\n",
    "u_perm = list(product(*pauli_index_ls))\n",
    "pauli_ls = [qeye(2), sigmax(), sigmay(), sigmaz()]\n",
    "ops = {index: pauli_gen(index) for index in u_perm}\n",
    "# Suppose H1 = X1X2 + Z1 + Z2\n",
    "H1 = ops[(1,1)] + ops[(3,0)] + ops[(0,3)]\n",
    "fH1 = commutator(H1, ops[(3,0)])\n",
    "# print(fH1)\n",
    "# print(-2j*ops[(2,1)])\n",
    "# f(H1) = -2iY1X2\n",
    "\n",
    "# H2 = Y1X2\n",
    "H2 = ops[(2,1)]\n",
    "fH2 = commutator (H2, ops[(3,0)])\n",
    "print(fH2)\n",
    "# f(H2) = 2iX1X2\n",
    "print(2j*ops[(1,1)])"
   ]
  },
  {
   "cell_type": "code",
   "execution_count": 103,
   "metadata": {},
   "outputs": [
    {
     "name": "stdout",
     "output_type": "stream",
     "text": [
      "-2j\n",
      "0\n"
     ]
    }
   ],
   "source": [
    "# H1\n",
    " \n",
    "print(gamma_u_w((1,1), (1,(3,0)), (2,1)))\n",
    "# Anything other w gives 0\n",
    "print(gamma_u_w((1,1), (1,(3,0)), (3,1)))"
   ]
  },
  {
   "cell_type": "code",
   "execution_count": 104,
   "metadata": {},
   "outputs": [
    {
     "name": "stdout",
     "output_type": "stream",
     "text": [
      "2j\n",
      "0\n"
     ]
    }
   ],
   "source": [
    "# H2\n",
    "\n",
    "print(gamma_u_w((2,1), (1,(3,0)), (1,1)))\n",
    "print(gamma_u_w((2,1), (1,(3,0)), (3,1)))"
   ]
  },
  {
   "cell_type": "markdown",
   "metadata": {},
   "source": [
    "# Sampling"
   ]
  },
  {
   "cell_type": "code",
   "execution_count": 144,
   "metadata": {},
   "outputs": [],
   "source": [
    "# (v, v') uniform prob\n",
    "(v, vp) = (u_perm[random.randint(0,len(u_perm)-1)], \n",
    "           u_perm[random.randint(0,len(u_perm)-1)])\n",
    "\n",
    "# (u, w) prob distritbution p(u,w) = 2|gamma(u,w)|/beta\n",
    "def gamma_wu_dum(pair_index):\n",
    "    # dummy function: dot product\n",
    "    # u,w tuple with n elements\n",
    "    u = pair_index[0]\n",
    "    w = pair_index[1]\n",
    "    return np.dot(u, w)\n",
    "\n",
    "def gamma_distibution(u_perm, D):\n",
    "    pair_index_ls = [u_perm] * 2\n",
    "    # For ntls = 2, len(pair_perm)=16^ntls=256\n",
    "    perm_pair_uw = list(product(*pair_index_ls))\n",
    "    gamma = [np.abs(gamma_u_w(pair_uw[0], D, pair_uw[1])) for pair_uw in perm_pair_uw]\n",
    "    gamma = gamma/np.sum(gamma)\n",
    "    return perm_pair_uw, gamma"
   ]
  },
  {
   "cell_type": "code",
   "execution_count": 145,
   "metadata": {},
   "outputs": [],
   "source": [
    "D = (1,(3,0))\n",
    "(perm_pair_uw, gamma_ls) = gamma_distibution(u_perm, D)\n",
    "perm_pair_uw[np.random.choice(len(perm_pair_uw), p=gamma_ls)]\n",
    "samples = np.random.choice(len(perm_pair_uw), 100000, p=gamma_ls)\n"
   ]
  },
  {
   "cell_type": "code",
   "execution_count": 142,
   "metadata": {},
   "outputs": [
    {
     "name": "stdout",
     "output_type": "stream",
     "text": [
      "((1, 0), (2, 0))\n",
      "((1, 1), (2, 1))\n",
      "((1, 2), (2, 2))\n",
      "((1, 3), (2, 3))\n",
      "((2, 0), (1, 0))\n",
      "((2, 1), (1, 1))\n",
      "((2, 2), (1, 2))\n",
      "((2, 3), (1, 3))\n"
     ]
    },
    {
     "data": {
      "text/plain": [
       "<BarContainer object of 8 artists>"
      ]
     },
     "execution_count": 142,
     "metadata": {},
     "output_type": "execute_result"
    },
    {
     "data": {
      "image/png": "[encoded data removed]",
      "text/plain": [
       "<Figure size 640x480 with 1 Axes>"
      ]
     },
     "metadata": {},
     "output_type": "display_data"
    }
   ],
   "source": [
    "sample_stat = np.unique(samples, return_counts=True)\n",
    "for i in sample_stat[0]:\n",
    "    # Possible pairs of uw with non-zero values\n",
    "    print(perm_pair_uw[i])\n",
    "plt.bar(sample_stat[0],sample_stat[1])"
   ]
  }
 ],
 "metadata": {
  "kernelspec": {
   "display_name": "qutip-env",
   "language": "python",
   "name": "python3"
  },
  "language_info": {
   "codemirror_mode": {
    "name": "ipython",
    "version": 3
   },
   "file_extension": ".py",
   "mimetype": "text/x-python",
   "name": "python",
   "nbconvert_exporter": "python",
   "pygments_lexer": "ipython3",
   "version": "3.10.9"
  },
  "orig_nbformat": 4
 },
 "nbformat": 4,
 "nbformat_minor": 2
}
